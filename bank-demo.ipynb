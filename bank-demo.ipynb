{
 "cells": [
  {
   "cell_type": "code",
   "execution_count": 1,
   "id": "203c24c2-1e21-4083-b01c-31ed6fe2923c",
   "metadata": {
    "execution": {
     "iopub.execute_input": "2025-07-17T04:08:45.150913Z",
     "iopub.status.busy": "2025-07-17T04:08:45.150342Z",
     "iopub.status.idle": "2025-07-17T04:08:48.174264Z",
     "shell.execute_reply": "2025-07-17T04:08:48.173148Z",
     "shell.execute_reply.started": "2025-07-17T04:08:45.150888Z"
    }
   },
   "outputs": [
    {
     "name": "stdout",
     "output_type": "stream",
     "text": [
      "sagemaker.config INFO - Not applying SDK defaults from location: /etc/xdg/sagemaker/config.yaml\n",
      "sagemaker.config INFO - Not applying SDK defaults from location: /home/sagemaker-user/.config/sagemaker/config.yaml\n"
     ]
    }
   ],
   "source": [
    "import boto3\n",
    "import pandas as pd\n",
    "import os\n",
    "import numpy as np\n",
    "from sklearn.model_selection import train_test_split\n",
    "from sklearn.preprocessing import StandardScaler\n",
    "import sagemaker\n",
    "from sagemaker.inputs import TrainingInput\n",
    "from sagemaker.tuner import HyperparameterTuner, IntegerParameter, ContinuousParameter\n",
    "from sagemaker.estimator import Estimator\n",
    "from sagemaker import image_uris\n",
    "from sagemaker.serializers import CSVSerializer"
   ]
  },
  {
   "cell_type": "code",
   "execution_count": 2,
   "id": "a079b182-3a74-469b-8885-86ddd65c4774",
   "metadata": {
    "execution": {
     "iopub.execute_input": "2025-07-17T04:08:48.175971Z",
     "iopub.status.busy": "2025-07-17T04:08:48.175735Z",
     "iopub.status.idle": "2025-07-17T04:08:48.698338Z",
     "shell.execute_reply": "2025-07-17T04:08:48.697466Z",
     "shell.execute_reply.started": "2025-07-17T04:08:48.175951Z"
    }
   },
   "outputs": [
    {
     "name": "stdout",
     "output_type": "stream",
     "text": [
      "Uploaded bank.csv to s3://renisa-ml-demo-bucket/data/bank.csv\n",
      "Uploaded bank-full.csv to s3://renisa-ml-demo-bucket/data/bank-full.csv\n",
      "Uploaded bank-additional-full.csv to s3://renisa-ml-demo-bucket/data/bank-additional-full.csv\n",
      "Uploaded bank-names.txt to s3://renisa-ml-demo-bucket/data/bank-names.txt\n",
      "Uploaded bank-additional-names.txt to s3://renisa-ml-demo-bucket/data/bank-additional-names.txt\n"
     ]
    }
   ],
   "source": [
    "# Your S3 bucket and folder\n",
    "bucket_name = 'renisa-ml-demo-bucket'\n",
    "s3_prefix = 'data/'\n",
    "\n",
    "# List of local files you want to upload\n",
    "files_to_upload = ['bank.csv', 'bank-full.csv', 'bank-additional-full.csv', 'bank-names.txt', 'bank-additional-names.txt']\n",
    "\n",
    "# Initialize S3 client\n",
    "s3 = boto3.client('s3')\n",
    "\n",
    "# Upload each file\n",
    "for file_name in files_to_upload:\n",
    "    s3_key = s3_prefix + file_name\n",
    "    s3.upload_file(file_name, bucket_name, s3_key)\n",
    "    print(f\"Uploaded {file_name} to s3://{bucket_name}/{s3_key}\")"
   ]
  },
  {
   "cell_type": "code",
   "execution_count": 3,
   "id": "590d3760-a28d-47c4-9a46-93e7ceca4966",
   "metadata": {
    "execution": {
     "iopub.execute_input": "2025-07-17T04:08:48.699582Z",
     "iopub.status.busy": "2025-07-17T04:08:48.699340Z",
     "iopub.status.idle": "2025-07-17T04:08:49.409364Z",
     "shell.execute_reply": "2025-07-17T04:08:49.408683Z",
     "shell.execute_reply.started": "2025-07-17T04:08:48.699562Z"
    },
    "scrolled": true
   },
   "outputs": [
    {
     "data": {
      "text/html": [
       "<div>\n",
       "<style scoped>\n",
       "    .dataframe tbody tr th:only-of-type {\n",
       "        vertical-align: middle;\n",
       "    }\n",
       "\n",
       "    .dataframe tbody tr th {\n",
       "        vertical-align: top;\n",
       "    }\n",
       "\n",
       "    .dataframe thead th {\n",
       "        text-align: right;\n",
       "    }\n",
       "</style>\n",
       "<table border=\"1\" class=\"dataframe\">\n",
       "  <thead>\n",
       "    <tr style=\"text-align: right;\">\n",
       "      <th></th>\n",
       "      <th>age</th>\n",
       "      <th>job</th>\n",
       "      <th>marital</th>\n",
       "      <th>education</th>\n",
       "      <th>default</th>\n",
       "      <th>balance</th>\n",
       "      <th>housing</th>\n",
       "      <th>loan</th>\n",
       "      <th>contact</th>\n",
       "      <th>day</th>\n",
       "      <th>month</th>\n",
       "      <th>duration</th>\n",
       "      <th>campaign</th>\n",
       "      <th>pdays</th>\n",
       "      <th>previous</th>\n",
       "      <th>poutcome</th>\n",
       "      <th>y</th>\n",
       "    </tr>\n",
       "  </thead>\n",
       "  <tbody>\n",
       "    <tr>\n",
       "      <th>0</th>\n",
       "      <td>58</td>\n",
       "      <td>management</td>\n",
       "      <td>married</td>\n",
       "      <td>tertiary</td>\n",
       "      <td>no</td>\n",
       "      <td>2143</td>\n",
       "      <td>yes</td>\n",
       "      <td>no</td>\n",
       "      <td>unknown</td>\n",
       "      <td>5</td>\n",
       "      <td>may</td>\n",
       "      <td>261</td>\n",
       "      <td>1</td>\n",
       "      <td>-1</td>\n",
       "      <td>0</td>\n",
       "      <td>unknown</td>\n",
       "      <td>no</td>\n",
       "    </tr>\n",
       "    <tr>\n",
       "      <th>1</th>\n",
       "      <td>44</td>\n",
       "      <td>technician</td>\n",
       "      <td>single</td>\n",
       "      <td>secondary</td>\n",
       "      <td>no</td>\n",
       "      <td>29</td>\n",
       "      <td>yes</td>\n",
       "      <td>no</td>\n",
       "      <td>unknown</td>\n",
       "      <td>5</td>\n",
       "      <td>may</td>\n",
       "      <td>151</td>\n",
       "      <td>1</td>\n",
       "      <td>-1</td>\n",
       "      <td>0</td>\n",
       "      <td>unknown</td>\n",
       "      <td>no</td>\n",
       "    </tr>\n",
       "    <tr>\n",
       "      <th>2</th>\n",
       "      <td>33</td>\n",
       "      <td>entrepreneur</td>\n",
       "      <td>married</td>\n",
       "      <td>secondary</td>\n",
       "      <td>no</td>\n",
       "      <td>2</td>\n",
       "      <td>yes</td>\n",
       "      <td>yes</td>\n",
       "      <td>unknown</td>\n",
       "      <td>5</td>\n",
       "      <td>may</td>\n",
       "      <td>76</td>\n",
       "      <td>1</td>\n",
       "      <td>-1</td>\n",
       "      <td>0</td>\n",
       "      <td>unknown</td>\n",
       "      <td>no</td>\n",
       "    </tr>\n",
       "    <tr>\n",
       "      <th>3</th>\n",
       "      <td>47</td>\n",
       "      <td>blue-collar</td>\n",
       "      <td>married</td>\n",
       "      <td>unknown</td>\n",
       "      <td>no</td>\n",
       "      <td>1506</td>\n",
       "      <td>yes</td>\n",
       "      <td>no</td>\n",
       "      <td>unknown</td>\n",
       "      <td>5</td>\n",
       "      <td>may</td>\n",
       "      <td>92</td>\n",
       "      <td>1</td>\n",
       "      <td>-1</td>\n",
       "      <td>0</td>\n",
       "      <td>unknown</td>\n",
       "      <td>no</td>\n",
       "    </tr>\n",
       "    <tr>\n",
       "      <th>4</th>\n",
       "      <td>33</td>\n",
       "      <td>unknown</td>\n",
       "      <td>single</td>\n",
       "      <td>unknown</td>\n",
       "      <td>no</td>\n",
       "      <td>1</td>\n",
       "      <td>no</td>\n",
       "      <td>no</td>\n",
       "      <td>unknown</td>\n",
       "      <td>5</td>\n",
       "      <td>may</td>\n",
       "      <td>198</td>\n",
       "      <td>1</td>\n",
       "      <td>-1</td>\n",
       "      <td>0</td>\n",
       "      <td>unknown</td>\n",
       "      <td>no</td>\n",
       "    </tr>\n",
       "  </tbody>\n",
       "</table>\n",
       "</div>"
      ],
      "text/plain": [
       "   age           job  marital  education default  balance housing loan  \\\n",
       "0   58    management  married   tertiary      no     2143     yes   no   \n",
       "1   44    technician   single  secondary      no       29     yes   no   \n",
       "2   33  entrepreneur  married  secondary      no        2     yes  yes   \n",
       "3   47   blue-collar  married    unknown      no     1506     yes   no   \n",
       "4   33       unknown   single    unknown      no        1      no   no   \n",
       "\n",
       "   contact  day month  duration  campaign  pdays  previous poutcome   y  \n",
       "0  unknown    5   may       261         1     -1         0  unknown  no  \n",
       "1  unknown    5   may       151         1     -1         0  unknown  no  \n",
       "2  unknown    5   may        76         1     -1         0  unknown  no  \n",
       "3  unknown    5   may        92         1     -1         0  unknown  no  \n",
       "4  unknown    5   may       198         1     -1         0  unknown  no  "
      ]
     },
     "execution_count": 3,
     "metadata": {},
     "output_type": "execute_result"
    }
   ],
   "source": [
    "df = pd.read_csv('s3://renisa-ml-demo-bucket/data/bank-full.csv', sep=';')\n",
    "df.head()"
   ]
  },
  {
   "cell_type": "code",
   "execution_count": 4,
   "id": "7dfcb7a7-0420-4aeb-9c0c-ad4813981596",
   "metadata": {
    "execution": {
     "iopub.execute_input": "2025-07-17T04:08:49.411125Z",
     "iopub.status.busy": "2025-07-17T04:08:49.410552Z",
     "iopub.status.idle": "2025-07-17T04:08:49.689104Z",
     "shell.execute_reply": "2025-07-17T04:08:49.688395Z",
     "shell.execute_reply.started": "2025-07-17T04:08:49.411090Z"
    }
   },
   "outputs": [
    {
     "name": "stdout",
     "output_type": "stream",
     "text": [
      "Shape: (45211, 17)\n",
      "Columns: ['age', 'job', 'marital', 'education', 'default', 'balance', 'housing', 'loan', 'contact', 'day', 'month', 'duration', 'campaign', 'pdays', 'previous', 'poutcome', 'y']\n",
      "\n",
      "Target distribution:\n",
      " y\n",
      "no     39922\n",
      "yes     5289\n",
      "Name: count, dtype: int64\n",
      "\n",
      "Categorical features: ['job', 'marital', 'education', 'default', 'housing', 'loan', 'contact', 'month', 'poutcome']\n",
      "Numerical features: ['age', 'balance', 'day', 'duration', 'campaign', 'pdays', 'previous']\n",
      "\n",
      "Train shape: (36168, 42)\n",
      "Test shape: (9043, 42)\n"
     ]
    }
   ],
   "source": [
    "# Load the dataset from S3\n",
    "df = pd.read_csv('s3://renisa-ml-demo-bucket/data/bank-full.csv', sep=';')\n",
    "\n",
    "# ---- Step 1: Inspect the data ----\n",
    "print(\"Shape:\", df.shape)\n",
    "print(\"Columns:\", df.columns.tolist())\n",
    "print(\"\\nTarget distribution:\\n\", df['y'].value_counts())\n",
    "\n",
    "# ---- Step 2: Convert target variable 'y' to binary ----\n",
    "df['y'] = df['y'].map({'yes': 1, 'no': 0})\n",
    "\n",
    "# ---- Step 3: Identify categorical and numerical columns ----\n",
    "categorical_cols = df.select_dtypes(include='object').columns.tolist()\n",
    "numerical_cols = df.select_dtypes(include=['int64', 'float64']).columns.tolist()\n",
    "numerical_cols.remove('y')\n",
    "\n",
    "print(\"\\nCategorical features:\", categorical_cols)\n",
    "print(\"Numerical features:\", numerical_cols)\n",
    "\n",
    "# ---- Step 4: One-hot encode categorical variables ----\n",
    "df_encoded = pd.get_dummies(df, columns=categorical_cols, drop_first=True)\n",
    "\n",
    "# ---- Step 5: Normalize numerical features ----\n",
    "scaler = StandardScaler()\n",
    "df_encoded[numerical_cols] = scaler.fit_transform(df_encoded[numerical_cols])\n",
    "\n",
    "# ---- Step 6: Train-test split ----\n",
    "X = df_encoded.drop('y', axis=1)\n",
    "y = df_encoded['y']\n",
    "X_train, X_test, y_train, y_test = train_test_split(X, y, test_size=0.2, random_state=42, stratify=y)\n",
    "\n",
    "print(\"\\nTrain shape:\", X_train.shape)\n",
    "print(\"Test shape:\", X_test.shape)"
   ]
  },
  {
   "cell_type": "code",
   "execution_count": 5,
   "id": "c05aad9d-af6b-45ad-a7b3-bd7a032906f0",
   "metadata": {
    "execution": {
     "iopub.execute_input": "2025-07-17T04:08:49.690833Z",
     "iopub.status.busy": "2025-07-17T04:08:49.690593Z",
     "iopub.status.idle": "2025-07-17T04:08:50.548876Z",
     "shell.execute_reply": "2025-07-17T04:08:50.548060Z",
     "shell.execute_reply.started": "2025-07-17T04:08:49.690812Z"
    }
   },
   "outputs": [
    {
     "name": "stdout",
     "output_type": "stream",
     "text": [
      "[0 1]\n"
     ]
    }
   ],
   "source": [
    "# Create a folder to store CSVs\n",
    "os.makedirs('bank_data', exist_ok=True)\n",
    "\n",
    "# Combine X and y\n",
    "train_df = pd.concat([y_train.reset_index(drop=True), X_train.reset_index(drop=True)], axis=1)\n",
    "val_df   = pd.concat([y_test.reset_index(drop=True),  X_test.reset_index(drop=True)],  axis=1)\n",
    "\n",
    "# Save as CSVs\n",
    "train_df.to_csv('bank_data/train.csv', index=False, header=False)\n",
    "val_df.to_csv('bank_data/validation.csv', index=False, header=False)\n",
    "\n",
    "print(train_df.iloc[:, 0].unique())"
   ]
  },
  {
   "cell_type": "code",
   "execution_count": 6,
   "id": "0d777b5d-78f7-4c11-926d-e919c07eb6fa",
   "metadata": {
    "execution": {
     "iopub.execute_input": "2025-07-17T04:08:50.550872Z",
     "iopub.status.busy": "2025-07-17T04:08:50.550648Z",
     "iopub.status.idle": "2025-07-17T04:08:51.011592Z",
     "shell.execute_reply": "2025-07-17T04:08:51.010782Z",
     "shell.execute_reply.started": "2025-07-17T04:08:50.550853Z"
    }
   },
   "outputs": [
    {
     "name": "stdout",
     "output_type": "stream",
     "text": [
      "Uploaded training data to: s3://renisa-ml-demo-bucket/xgboost-bank-demo/train/train.csv\n",
      "Uploaded validation data to: s3://renisa-ml-demo-bucket/xgboost-bank-demo/validation/validation.csv\n"
     ]
    }
   ],
   "source": [
    "prefix = 'xgboost-bank-demo'\n",
    "\n",
    "train_key = f'{prefix}/train/train.csv'\n",
    "val_key = f'{prefix}/validation/validation.csv'\n",
    "\n",
    "s3 = boto3.client('s3')\n",
    "s3.upload_file('bank_data/train.csv', bucket_name, train_key)\n",
    "s3.upload_file('bank_data/validation.csv', bucket_name, val_key)\n",
    "\n",
    "s3_train_path = f's3://{bucket_name}/{train_key}'\n",
    "s3_val_path = f's3://{bucket_name}/{val_key}'\n",
    "\n",
    "print(f\"Uploaded training data to: {s3_train_path}\")\n",
    "print(f\"Uploaded validation data to: {s3_val_path}\")"
   ]
  },
  {
   "cell_type": "code",
   "execution_count": 7,
   "id": "cbf8a516-1dd7-40e4-8f39-20b7b8c7788f",
   "metadata": {
    "execution": {
     "iopub.execute_input": "2025-07-17T04:08:51.013149Z",
     "iopub.status.busy": "2025-07-17T04:08:51.012838Z",
     "iopub.status.idle": "2025-07-17T04:08:51.242347Z",
     "shell.execute_reply": "2025-07-17T04:08:51.241484Z",
     "shell.execute_reply.started": "2025-07-17T04:08:51.013121Z"
    }
   },
   "outputs": [
    {
     "name": "stdout",
     "output_type": "stream",
     "text": [
      "us-east-1\n"
     ]
    }
   ],
   "source": [
    "boto_session = boto3.Session(region_name='us-east-1')\n",
    "session = sagemaker.Session(boto_session=boto_session)\n",
    "role = sagemaker.get_execution_role()\n",
    "\n",
    "region=session.boto_region_name\n",
    "print(region)"
   ]
  },
  {
   "cell_type": "code",
   "execution_count": 8,
   "id": "8e4200a6-69fa-4754-b7ca-e7b415f9b85b",
   "metadata": {
    "execution": {
     "iopub.execute_input": "2025-07-17T04:08:51.243918Z",
     "iopub.status.busy": "2025-07-17T04:08:51.243479Z",
     "iopub.status.idle": "2025-07-17T04:17:03.972957Z",
     "shell.execute_reply": "2025-07-17T04:17:03.972239Z",
     "shell.execute_reply.started": "2025-07-17T04:08:51.243889Z"
    },
    "scrolled": true
   },
   "outputs": [
    {
     "name": "stderr",
     "output_type": "stream",
     "text": [
      "No finished training job found associated with this estimator. Please make sure this estimator is only used for building workflow config\n",
      "No finished training job found associated with this estimator. Please make sure this estimator is only used for building workflow config\n"
     ]
    },
    {
     "name": "stdout",
     "output_type": "stream",
     "text": [
      "...............................................................................................!\n"
     ]
    }
   ],
   "source": [
    "# Get the built-in XGBoost image URI\n",
    "# In SageMaker, an image is basically a Docker container that has pre-installed code for training or inference\n",
    "# Here we're asking Sagemaker: “Give me the URI of the official XGBoost container \n",
    "# (pre-built Docker image) in us-east-1 for version 1.3-1.”\n",
    "container = image_uris.retrieve(\n",
    "    framework=\"xgboost\",\n",
    "    region=\"us-east-1\",\n",
    "    version=\"1.3-1\"  \n",
    ")\n",
    "\n",
    "# Define the XGBoost Estimator\n",
    "# \n",
    "xgb = Estimator(\n",
    "    image_uri=container,\n",
    "    role=role,\n",
    "    instance_count=1,\n",
    "    instance_type='ml.m5.large',\n",
    "    output_path=f's3://{bucket_name}/{prefix}/output',\n",
    "    sagemaker_session=session\n",
    ")\n",
    "\n",
    "xgb.set_hyperparameters(\n",
    "    objective=\"binary:logistic\",\n",
    "    num_round=100\n",
    ")\n",
    "\n",
    "hyperparameter_ranges = {\n",
    "    \"max_depth\": IntegerParameter(3, 10), \n",
    "    # Controls the maximum depth of each decision tree.\n",
    "    # Larger values make the model more complex, but risk overfitting.\n",
    "    \n",
    "    \"eta\": ContinuousParameter(0.01, 0.3), \n",
    "    # Learning rate (shrinkage). Smaller values make learning slower but more precise.\n",
    "    # Often paired with more boosting rounds.\n",
    "    \n",
    "    \"min_child_weight\": IntegerParameter(1, 10), \n",
    "    # Minimum sum of instance weight (hessian) needed in a child.\n",
    "    # Larger values can make the model more conservative (less complex splits).\n",
    "    \n",
    "    \"subsample\": ContinuousParameter(0.5, 1.0), \n",
    "    # Fraction of the training data used to grow each tree.\n",
    "    # Prevents overfitting; lower values add randomness.\n",
    "    \n",
    "    \"colsample_bytree\": ContinuousParameter(0.5, 1.0) \n",
    "    # Fraction of features (columns) to consider at each tree.\n",
    "    # Helps prevent overfitting and speeds up training.\n",
    "}\n",
    "\n",
    "tuner = HyperparameterTuner(\n",
    "    estimator=xgb,\n",
    "    objective_metric_name=\"validation:auc\",  # Or \"validation:logloss\"\n",
    "    hyperparameter_ranges=hyperparameter_ranges,\n",
    "    metric_definitions=[{\n",
    "        \"Name\": \"validation:auc\",\n",
    "        \"Regex\": \".*\\\\[.*\\\\].*validation-auc:([0-9\\\\.]+)\"\n",
    "    }],\n",
    "    max_jobs=10,\n",
    "    max_parallel_jobs=2,\n",
    "    objective_type=\"Maximize\"\n",
    ")\n",
    "\n",
    "# Train\n",
    "tuner.fit({\n",
    "    \"train\": TrainingInput(s3_train_path, content_type=\"text/csv\"),\n",
    "    \"validation\": TrainingInput(s3_val_path, content_type=\"text/csv\")\n",
    "})"
   ]
  },
  {
   "cell_type": "code",
   "execution_count": 9,
   "id": "3c495e9c-1fc1-4e5a-a3b4-9e52e40d0cb3",
   "metadata": {
    "execution": {
     "iopub.execute_input": "2025-07-17T04:17:03.974299Z",
     "iopub.status.busy": "2025-07-17T04:17:03.973773Z",
     "iopub.status.idle": "2025-07-17T04:17:04.099332Z",
     "shell.execute_reply": "2025-07-17T04:17:04.098545Z",
     "shell.execute_reply.started": "2025-07-17T04:17:03.974277Z"
    }
   },
   "outputs": [
    {
     "name": "stdout",
     "output_type": "stream",
     "text": [
      "Endpoint 'xgboost-bank-marketing-endpoint' already exists. Reusing it.\n"
     ]
    }
   ],
   "source": [
    "from sagemaker.predictor import Predictor\n",
    "from sagemaker.serializers import CSVSerializer\n",
    "from sagemaker.deserializers import StringDeserializer\n",
    "\n",
    "endpoint_name = \"xgboost-bank-marketing-endpoint\"\n",
    "\n",
    "# Check if endpoint exists\n",
    "sm_client = boto3.client('sagemaker', region_name='us-east-1')\n",
    "existing_endpoints = sm_client.list_endpoints(NameContains=endpoint_name)['Endpoints']\n",
    "endpoint_names = [ep['EndpointName'] for ep in existing_endpoints]\n",
    "\n",
    "if endpoint_name in endpoint_names:\n",
    "    print(f\"Endpoint '{endpoint_name}' already exists. Reusing it.\")\n",
    "    predictor = Predictor(endpoint_name=endpoint_name, sagemaker_session=session)\n",
    "else:\n",
    "    print(f\"Creating endpoint '{endpoint_name}' from best estimator...\")\n",
    "    # Fetch the best estimator from the tuner\n",
    "    best_estimator = tuner.best_estimator()\n",
    "\n",
    "    predictor = best_estimator.deploy(\n",
    "        initial_instance_count=1,\n",
    "        instance_type=\"ml.m5.large\",\n",
    "        endpoint_name=endpoint_name\n",
    "    )\n",
    "\n",
    "# Set up serialization/deserialization\n",
    "predictor.serializer = CSVSerializer()\n",
    "predictor.deserializer = StringDeserializer()"
   ]
  },
  {
   "cell_type": "code",
   "execution_count": 10,
   "id": "fb1e65f0-3e29-45ab-a2be-724ca2493837",
   "metadata": {
    "execution": {
     "iopub.execute_input": "2025-07-17T04:17:04.100546Z",
     "iopub.status.busy": "2025-07-17T04:17:04.100165Z",
     "iopub.status.idle": "2025-07-17T04:17:04.261859Z",
     "shell.execute_reply": "2025-07-17T04:17:04.261103Z",
     "shell.execute_reply.started": "2025-07-17T04:17:04.100522Z"
    }
   },
   "outputs": [
    {
     "name": "stdout",
     "output_type": "stream",
     "text": [
      "Prediction: {\"predictions\": [{\"score\": 0.8477307558059692}]}\n"
     ]
    }
   ],
   "source": [
    "sample = [[30, 1, 1, 1, 1, 1, 1, 1787, 1, 1, 1, 1, 1, 1, 1, 1, 0, 0, 1, 0, 0, 0, 1, 0, 1, 0, 0, 1, 0, 0, 0, 1, 0, 0, 1, 0, 1, 0, 1, 0]]\n",
    "# Call endpoint with SageMaker SDK\n",
    "response = predictor.predict(sample)\n",
    "print(\"Prediction:\", response)"
   ]
  },
  {
   "cell_type": "code",
   "execution_count": 11,
   "id": "72bf4490-5dbb-4ec8-8ad7-91face249a6b",
   "metadata": {
    "execution": {
     "iopub.execute_input": "2025-07-17T04:17:04.264004Z",
     "iopub.status.busy": "2025-07-17T04:17:04.263686Z",
     "iopub.status.idle": "2025-07-17T04:17:05.067296Z",
     "shell.execute_reply": "2025-07-17T04:17:05.066443Z",
     "shell.execute_reply.started": "2025-07-17T04:17:04.263973Z"
    },
    "scrolled": true
   },
   "outputs": [
    {
     "name": "stdout",
     "output_type": "stream",
     "text": [
      "Accuracy: 0.8822293486674776\n",
      "Precision: 0.49519890260631\n",
      "Recall: 0.34120982986767484\n",
      "F1 Score: 0.40402909904868495\n",
      "ROC AUC: 0.8478550874572244\n"
     ]
    }
   ],
   "source": [
    "import io\n",
    "from sklearn.metrics import accuracy_score, precision_score, recall_score, f1_score, roc_auc_score\n",
    "\n",
    "# Ensure all values are float, not bool or object\n",
    "X_test_fixed = X_test.astype(float)\n",
    "\n",
    "# Convert to CSV format for endpoint input\n",
    "csv_buffer = io.StringIO()\n",
    "X_test_fixed.to_csv(csv_buffer, header=False, index=False)\n",
    "payload = csv_buffer.getvalue()\n",
    "\n",
    "# Call endpoint with boto3\n",
    "runtime = boto3.client('sagemaker-runtime', region_name='us-east-1')\n",
    "response = runtime.invoke_endpoint(\n",
    "    EndpointName='xgboost-bank-marketing-endpoint',  # Update if different\n",
    "    ContentType='text/csv',\n",
    "    Body=payload\n",
    ")\n",
    "\n",
    "# Parse predictions\n",
    "result = response['Body'].read().decode('utf-8')\n",
    "predictions = [float(x) for x in result.strip().split('\\n') if x]\n",
    "predicted_labels = [1 if p > 0.5 else 0 for p in predictions]\n",
    "\n",
    "# Evaluation metrics\n",
    "print(\"Accuracy:\", accuracy_score(y_test, predicted_labels))\n",
    "print(\"Precision:\", precision_score(y_test, predicted_labels))\n",
    "print(\"Recall:\", recall_score(y_test, predicted_labels))\n",
    "print(\"F1 Score:\", f1_score(y_test, predicted_labels))\n",
    "print(\"ROC AUC:\", roc_auc_score(y_test, predictions))\n"
   ]
  },
  {
   "cell_type": "code",
   "execution_count": null,
   "id": "64c5b94e-dff1-4550-9586-3c0ef4bf2ab9",
   "metadata": {},
   "outputs": [],
   "source": [
    "# --- Step: Setup SageMaker Clarify for Bias & Explainability Analysis ---\n",
    "# SHapley Additive exPlanations\n",
    "import boto3\n",
    "from sagemaker.clarify import SageMakerClarifyProcessor\n",
    "from sagemaker import Session\n",
    "\n",
    "boto_session = boto3.Session(region_name=\"us-east-1\")\n",
    "sagemaker_session = Session(boto_session=boto_session)\n",
    "\n",
    "from sagemaker.clarify import (\n",
    "    DataConfig,\n",
    "    ModelConfig,\n",
    "    BiasConfig,\n",
    "    SHAPConfig\n",
    ")\n",
    "\n",
    "# Combine test features and labels into one DataFrame for Clarify input\n",
    "clarify_df = df.loc[y_test.index].copy()\n",
    "clarify_df[\"y\"] = clarify_df[\"y\"].map({\"yes\": 1, \"no\": 0})\n",
    "\n",
    "# Save test set to CSV (required by Clarify)\n",
    "clarify_test_path = \"bank_data/clarify_test.csv\"\n",
    "clarify_df.to_csv(clarify_test_path, index=False)\n",
    "\n",
    "# Upload test set to S3\n",
    "clarify_s3_key = f\"{prefix}clarify_test.csv\"\n",
    "clarify_s3_path = f\"s3://{bucket_name}/{clarify_s3_key}\"\n",
    "s3.upload_file(clarify_test_path, bucket_name, clarify_s3_key)\n",
    "\n",
    "# Initialize Clarify processor (use low-cost instance)\n",
    "clarify_processor = SageMakerClarifyProcessor(\n",
    "    role=role,\n",
    "    instance_count=1,\n",
    "    instance_type=\"ml.t3.medium\",\n",
    "    sagemaker_session=sagemaker_session\n",
    ")\n",
    "\n",
    "# Configure input/output data for Clarify\n",
    "data_config = DataConfig(\n",
    "    s3_data_input_path=clarify_s3_path,\n",
    "    s3_output_path=f\"s3://{bucket_name}/{prefix}clarify-output\",\n",
    "    label=\"y\",\n",
    "    headers=clarify_df.columns.tolist(),\n",
    "    dataset_type=\"text/csv\"\n",
    ")\n",
    "\n",
    "# Configure model endpoint details for post-training & explainability\n",
    "model_config = ModelConfig(\n",
    "    model_name=\"xgboost-bank-marketing-endpoint\",\n",
    "    instance_type=\"ml.t3.medium\",\n",
    "    instance_count=1,\n",
    "    content_type=\"text/csv\",\n",
    "    accept_type=\"text/csv\"\n",
    ")\n",
    "\n",
    "# Define bias config \n",
    "bias_config = BiasConfig(\n",
    "    facet_name=\"marital\",\n",
    "    label_values_or_threshold=[1]\n",
    ")\n",
    "\n",
    "# Define SHAP config to explain model predictions\n",
    "shap_config = SHAPConfig(\n",
    "    baseline=X_test.sample(10, random_state=42).astype(float).values.tolist(),\n",
    "    num_samples=100\n",
    ")\n",
    "\n",
    "# --- Run Pre-training Bias Analysis (on dataset only) ---\n",
    "clarify_processor.run_pre_training_bias(\n",
    "    data_config,\n",
    "    bias_config\n",
    ")\n",
    "\n",
    "# --- Run Post-training Bias Analysis (on predictions from model) ---\n",
    "clarify_processor.run_post_training_bias(\n",
    "    data_config,\n",
    "    model_config,\n",
    "    bias_config\n",
    ")\n",
    "\n",
    "# --- Run Explainability (SHAP) ---\n",
    "clarify_processor.run_explainability(\n",
    "    data_config=data_config,\n",
    "    model_config=model_config,\n",
    "    shap_config=shap_config\n",
    ")"
   ]
  }
 ],
 "metadata": {
  "kernelspec": {
   "display_name": "Python 3 (ipykernel)",
   "language": "python",
   "name": "python3"
  },
  "language_info": {
   "codemirror_mode": {
    "name": "ipython",
    "version": 3
   },
   "file_extension": ".py",
   "mimetype": "text/x-python",
   "name": "python",
   "nbconvert_exporter": "python",
   "pygments_lexer": "ipython3",
   "version": "3.12.9"
  }
 },
 "nbformat": 4,
 "nbformat_minor": 5
}
